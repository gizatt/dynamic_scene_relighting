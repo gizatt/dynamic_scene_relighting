{
 "cells": [
  {
   "cell_type": "code",
   "execution_count": 1,
   "metadata": {},
   "outputs": [],
   "source": [
    "import pydrake\n",
    "from pydrake.all import (\n",
    "    AngleAxis_,\n",
    "    AutoDiffXd,\n",
    "    Expression,\n",
    "    MathematicalProgram,\n",
    "    Quaternion_,\n",
    "    RotationMatrix_,\n",
    "    RotationMatrix,\n",
    "    RollPitchYaw_,\n",
    "    RollPitchYaw,\n",
    "    Solve,\n",
    "    Variable\n",
    ")\n",
    "import pydrake.math as dmath\n",
    "import numpy as np\n",
    "import matplotlib.pyplot as plt"
   ]
  },
  {
   "cell_type": "code",
   "execution_count": 2,
   "metadata": {},
   "outputs": [
    {
     "name": "stdout",
     "output_type": "stream",
     "text": [
      "Loaded 1096 points \n",
      "[1267.875     758.931335]\n",
      "[522.224731 396.973724]\n",
      "[-0.794943 -0.4857    0.728   ] [0.835286 0.531978 3.286   ]\n"
     ]
    }
   ],
   "source": [
    "data = np.loadtxt(\"../calibration_pairs.csv\", delimiter=\",\")\n",
    "print(\"Loaded %d points \" % data.shape[0])\n",
    "\n",
    "d415_intrinsics = np.loadtxt(\"../d415_intrinsics.csv\")\n",
    "\n",
    "# 2xN points in projector image plane\n",
    "uv_projected = data[:, :2].T\n",
    "print(np.max(uv_projected, axis=1))\n",
    "# 2xN points in RGBD image plane (unused)\n",
    "uv_observed = data[:, 2:4].T\n",
    "print(np.max(uv_observed, axis=1))\n",
    "# 3xN points in RGBD camera frame\n",
    "p_c = data[:, 4:].T\n",
    "print(np.min(p_c, axis=1), np.max(p_c, axis=1))\n",
    "# recalculate... bug?\n",
    "#p_c[:2, :] = np.linalg.inv(d415_intrinsics)[:2, :2].dot(uv_observed) * p_c[2, :]"
   ]
  },
  {
   "cell_type": "code",
   "execution_count": 3,
   "metadata": {},
   "outputs": [],
   "source": [
    "def get_R(R_rpy):\n",
    "    if isinstance(R_rpy[0], AutoDiffXd):\n",
    "        return RotationMatrix_[AutoDiffXd](RollPitchYaw_[AutoDiffXd](R_rpy))\n",
    "    elif isinstance(R_rpy[0], (Expression, Variable)):\n",
    "        return RotationMatrix_[Expression](RollPitchYaw_[Expression](R_rpy))\n",
    "    else:\n",
    "        return RotationMatrix(RollPitchYaw(R_rpy))\n",
    "def get_K(fov_xy, c_xy):\n",
    "    # tan(fov / 2) = (resolution / 2) / f_x\n",
    "    f_x = (native_resolution[0] / 2.) / dmath.tan(fov_xy[0] / 2)\n",
    "    f_y = (native_resolution[1] / 2.) / dmath.tan(fov_xy[1] / 2)\n",
    "    return np.array([[f_x, 0., c_xy[0]],\n",
    "                  [0., f_y, c_xy[1]],\n",
    "                  [0., 0., 1.]])\n",
    "fov_xy_guess = 2*np.arctan2(np.array([20., 13.5])/2., 26)\n",
    "native_resolution = np.array([1280, 1024])\n",
    "c_xy_guess = native_resolution / 2"
   ]
  },
  {
   "cell_type": "code",
   "execution_count": 4,
   "metadata": {},
   "outputs": [
    {
     "name": "stdout",
     "output_type": "stream",
     "text": [
      "Guess:  [0.73434767 0.50801553] [640. 512.]\n",
      "K:  [[1.70972298e+03 0.00000000e+00 6.36022598e+02]\n",
      " [0.00000000e+00 1.82296612e+03 4.12000000e+02]\n",
      " [0.00000000e+00 0.00000000e+00 1.00000000e+00]]\n",
      "(True, 27.145824072303935, (array([-0.05358709,  0.0064919 , -0.04613712]), array([2.22251110e-02, 4.35832961e-04, 3.13568127e+00]), array([0.71636567, 0.54761377]), array([636.0225977, 412.       ])))\n",
      "K:  [[1.70972298e+03 0.00000000e+00 6.36022598e+02]\n",
      " [0.00000000e+00 1.82296612e+03 4.12000000e+02]\n",
      " [0.00000000e+00 0.00000000e+00 1.00000000e+00]]\n",
      "(True, 27.14582407230396, (array([-0.05358709,  0.0064919 , -0.04613712]), array([2.22251110e-02, 4.35832988e-04, 3.13568127e+00]), array([0.71636567, 0.54761377]), array([636.02259775, 412.        ])))\n",
      "K:  [[1.70972298e+03 0.00000000e+00 6.36022598e+02]\n",
      " [0.00000000e+00 1.82296612e+03 4.12000000e+02]\n",
      " [0.00000000e+00 0.00000000e+00 1.00000000e+00]]\n",
      "(True, 27.145824072303927, (array([-0.05358709,  0.0064919 , -0.04613712]), array([2.22251110e-02, 4.35832989e-04, 3.13568127e+00]), array([0.71636567, 0.54761377]), array([636.02259775, 412.        ])))\n"
     ]
    }
   ],
   "source": [
    "# From empirical measurements\n",
    "print(\"Guess: \", fov_xy_guess, c_xy_guess)\n",
    "\n",
    "\n",
    "def setup_and_solve():\n",
    "    prog = MathematicalProgram()\n",
    "    # We're trying to find the pose of the projector,\n",
    "    # and its FOV. (We know its full resolution.)\n",
    "\n",
    "    # Set up extrinsics variables\n",
    "    T = prog.NewContinuousVariables(3, \"T\")\n",
    "    R_rpy = prog.NewContinuousVariables(3, \"R_rpy\")\n",
    "    prog.AddBoundingBoxConstraint(np.ones(3)*-0.5, np.ones(3)*0.5, T)\n",
    "    prog.AddBoundingBoxConstraint(np.ones(3)*-10.*np.pi, np.ones(3)*10.*np.pi, R_rpy)\n",
    "    prog.SetInitialGuess(T, np.random.random(3)*0.1 - 0.05)\n",
    "    prog.SetInitialGuess(R_rpy, [0., 0., 0.])\n",
    "\n",
    "\n",
    "    # Set up intrinsics variables\n",
    "    fov_xy = prog.NewContinuousVariables(2, \"fov_xy\")\n",
    "    prog.AddBoundingBoxConstraint(fov_xy_guess * 0.5, fov_xy_guess*2.0, fov_xy)\n",
    "    prog.SetInitialGuess(fov_xy, fov_xy_guess)\n",
    "    \n",
    "    c_xy = prog.NewContinuousVariables(2, \"c_xy\")\n",
    "    prog.AddBoundingBoxConstraint(c_xy_guess - 100, c_xy_guess + 100, c_xy)\n",
    "    prog.SetInitialGuess(c_xy, c_xy_guess)\n",
    "    \n",
    "\n",
    "    # Trivial constraint: transformed points must still be in front of camera,\n",
    "    # which is -z in opengl.\n",
    "    R = get_R(R_rpy)\n",
    "    tf_pts = (R.multiply(p_c).T + T).T\n",
    "    for k in range(p_c.shape[1]):\n",
    "        prog.AddConstraint(tf_pts[2, k] >= 0.0)\n",
    "    \n",
    "    def calc_error(x):\n",
    "        T = x[:3]\n",
    "        R_rpy = x[3:6]\n",
    "        fov_xy = x[6:8]\n",
    "        c_xy = x[8:10]\n",
    "        R = get_R(R_rpy)\n",
    "        K = get_K(fov_xy, c_xy)\n",
    "\n",
    "        # Project the point set into the camera.\n",
    "        p_projector = (R.multiply(p_c).T + T).T\n",
    "        p_uv_projector = K.dot(p_projector)\n",
    "        p_uv_projector[0, :] /= p_uv_projector[2, :]\n",
    "        p_uv_projector[1, :] /= p_uv_projector[2, :]\n",
    "        return np.mean((p_uv_projector[:2, :] - uv_projected)**2.)\n",
    "\n",
    "    prog.AddCost(calc_error, np.concatenate([T, R_rpy, fov_xy, c_xy]))\n",
    "    result = Solve(prog)\n",
    "    \n",
    "    success = result.is_success()\n",
    "    T = result.GetSolution(T)\n",
    "    R_rpy = result.GetSolution(R_rpy)\n",
    "    fov_xy = result.GetSolution(fov_xy)\n",
    "    c_xy = result.GetSolution(c_xy)\n",
    "    final_err = calc_error(np.concatenate([T, R_rpy, fov_xy, c_xy]))\n",
    "    print(\"K: \", get_K(fov_xy, c_xy))\n",
    "    return success, final_err, (T, R_rpy, fov_xy, c_xy)\n",
    "\n",
    "for k in range(3):\n",
    "    sol = setup_and_solve()\n",
    "    print(sol)"
   ]
  },
  {
   "cell_type": "code",
   "execution_count": 5,
   "metadata": {},
   "outputs": [
    {
     "ename": "ValueError",
     "evalue": "too many values to unpack (expected 3)",
     "output_type": "error",
     "traceback": [
      "\u001b[0;31m---------------------------------------------------------------------------\u001b[0m",
      "\u001b[0;31mValueError\u001b[0m                                Traceback (most recent call last)",
      "\u001b[0;32m<ipython-input-5-56bdd31daf4a>\u001b[0m in \u001b[0;36m<module>\u001b[0;34m\u001b[0m\n\u001b[0;32m----> 1\u001b[0;31m \u001b[0mT\u001b[0m\u001b[0;34m,\u001b[0m \u001b[0mR_rpy\u001b[0m\u001b[0;34m,\u001b[0m \u001b[0mfov_xy\u001b[0m \u001b[0;34m=\u001b[0m \u001b[0msol\u001b[0m\u001b[0;34m[\u001b[0m\u001b[0;34m-\u001b[0m\u001b[0;36m1\u001b[0m\u001b[0;34m]\u001b[0m\u001b[0;34m\u001b[0m\u001b[0;34m\u001b[0m\u001b[0m\n\u001b[0m\u001b[1;32m      2\u001b[0m \u001b[0mK\u001b[0m \u001b[0;34m=\u001b[0m \u001b[0mget_K\u001b[0m\u001b[0;34m(\u001b[0m\u001b[0mfov_xy\u001b[0m\u001b[0;34m)\u001b[0m\u001b[0;34m\u001b[0m\u001b[0;34m\u001b[0m\u001b[0m\n\u001b[1;32m      3\u001b[0m \u001b[0mR\u001b[0m \u001b[0;34m=\u001b[0m \u001b[0mget_R\u001b[0m\u001b[0;34m(\u001b[0m\u001b[0mR_rpy\u001b[0m\u001b[0;34m)\u001b[0m\u001b[0;34m\u001b[0m\u001b[0;34m\u001b[0m\u001b[0m\n\u001b[1;32m      4\u001b[0m \u001b[0mtf\u001b[0m \u001b[0;34m=\u001b[0m \u001b[0mnp\u001b[0m\u001b[0;34m.\u001b[0m\u001b[0meye\u001b[0m\u001b[0;34m(\u001b[0m\u001b[0;36m4\u001b[0m\u001b[0;34m)\u001b[0m\u001b[0;34m\u001b[0m\u001b[0;34m\u001b[0m\u001b[0m\n\u001b[1;32m      5\u001b[0m \u001b[0mtf\u001b[0m\u001b[0;34m[\u001b[0m\u001b[0;34m:\u001b[0m\u001b[0;36m3\u001b[0m\u001b[0;34m,\u001b[0m \u001b[0;34m:\u001b[0m\u001b[0;36m3\u001b[0m\u001b[0;34m]\u001b[0m \u001b[0;34m=\u001b[0m \u001b[0mR\u001b[0m\u001b[0;34m.\u001b[0m\u001b[0mmatrix\u001b[0m\u001b[0;34m(\u001b[0m\u001b[0;34m)\u001b[0m\u001b[0;34m\u001b[0m\u001b[0;34m\u001b[0m\u001b[0m\n",
      "\u001b[0;31mValueError\u001b[0m: too many values to unpack (expected 3)"
     ]
    }
   ],
   "source": [
    "T, R_rpy, fov_xy = sol[-1]\n",
    "K = get_K(fov_xy)\n",
    "R = get_R(R_rpy)\n",
    "tf = np.eye(4)\n",
    "tf[:3, :3] = R.matrix()\n",
    "tf[:3, 3] = T\n",
    "print(tf)\n",
    "print(K)"
   ]
  },
  {
   "cell_type": "code",
   "execution_count": null,
   "metadata": {},
   "outputs": [],
   "source": [
    "import meshcat\n",
    "import meshcat.geometry as g\n",
    "vis = meshcat.Visualizer(zmq_url=\"tcp://127.0.0.1:6000\")\n",
    "vis.delete()\n",
    "vis['p_c'].set_object(\n",
    "    g.PointsGeometry(position=p_c),\n",
    "    g.PointsMaterial(size=0.05, color=0xff0000))\n",
    "\n",
    "proj_p = K.dot((R.multiply(p_c).T + T).T)\n",
    "proj_p[0, :] /= proj_p[2, :] * 1000.\n",
    "proj_p[1, :] /= proj_p[2, :] * 1000.\n",
    "proj_p[2, :] /= proj_p[2, :]\n",
    "print(proj_p)\n",
    "vis[\"p_uv\"].set_object(\n",
    "    g.PointsGeometry(position=proj_p),\n",
    "    g.PointsMaterial(size=0.05, color=0x0000ff))\n",
    "uv_pts = np.vstack([uv_projected, np.ones((1, uv_projected.shape[1]))])\n",
    "vis['uv'].set_object(\n",
    "    g.PointsGeometry(uv_pts/1000.),\n",
    "    g.PointsMaterial(size=0.05, color=0x00ff00))\n",
    "\n",
    "paired = np.empty((3, 2*p_c.shape[1]))\n",
    "paired[:, ::2] = p_c\n",
    "paired[:, 1::2] = uv_pts/1000.\n",
    "vis['corr'].set_object(\n",
    "    g.LineSegments(g.PointsGeometry(paired)))"
   ]
  },
  {
   "cell_type": "code",
   "execution_count": null,
   "metadata": {},
   "outputs": [],
   "source": []
  }
 ],
 "metadata": {
  "kernelspec": {
   "display_name": "Python [conda env:py36_pyro] *",
   "language": "python",
   "name": "conda-env-py36_pyro-py"
  },
  "language_info": {
   "codemirror_mode": {
    "name": "ipython",
    "version": 3
   },
   "file_extension": ".py",
   "mimetype": "text/x-python",
   "name": "python",
   "nbconvert_exporter": "python",
   "pygments_lexer": "ipython3",
   "version": "3.6.8"
  }
 },
 "nbformat": 4,
 "nbformat_minor": 4
}
